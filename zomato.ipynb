{
  "nbformat": 4,
  "nbformat_minor": 0,
  "metadata": {
    "colab": {
      "name": "zomato.ipynb",
      "provenance": []
    },
    "kernelspec": {
      "name": "python3",
      "display_name": "Python 3"
    },
    "language_info": {
      "name": "python"
    }
  },
  "cells": [
    {
      "cell_type": "code",
      "metadata": {
        "id": "W-gbWDAuCvYA"
      },
      "source": [
        "import nltk\n",
        "import pandas as pd"
      ],
      "execution_count": null,
      "outputs": []
    },
    {
      "cell_type": "code",
      "metadata": {
        "id": "y0AYafs_GGUx"
      },
      "source": [
        "df=pd.read_excel(\"/content/drive/MyDrive/Zomato Web scraping/zomato.xlsx\")"
      ],
      "execution_count": null,
      "outputs": []
    },
    {
      "cell_type": "code",
      "metadata": {
        "colab": {
          "base_uri": "https://localhost:8080/",
          "height": 302
        },
        "id": "3iIxB-RvGaRp",
        "outputId": "e18cc3c4-ea6c-4aec-d350-67e4ba6edce1"
      },
      "source": [
        "df.head()"
      ],
      "execution_count": null,
      "outputs": [
        {
          "output_type": "execute_result",
          "data": {
            "text/html": [
              "<div>\n",
              "<style scoped>\n",
              "    .dataframe tbody tr th:only-of-type {\n",
              "        vertical-align: middle;\n",
              "    }\n",
              "\n",
              "    .dataframe tbody tr th {\n",
              "        vertical-align: top;\n",
              "    }\n",
              "\n",
              "    .dataframe thead th {\n",
              "        text-align: right;\n",
              "    }\n",
              "</style>\n",
              "<table border=\"1\" class=\"dataframe\">\n",
              "  <thead>\n",
              "    <tr style=\"text-align: right;\">\n",
              "      <th></th>\n",
              "      <th>Restaurant</th>\n",
              "      <th>Timings</th>\n",
              "      <th>Dining review</th>\n",
              "      <th>Delivery review</th>\n",
              "      <th>Address</th>\n",
              "      <th>Category</th>\n",
              "      <th>Item Name</th>\n",
              "      <th>Chef's special</th>\n",
              "      <th>Must try</th>\n",
              "      <th>Price</th>\n",
              "      <th>Description</th>\n",
              "    </tr>\n",
              "  </thead>\n",
              "  <tbody>\n",
              "    <tr>\n",
              "      <th>0</th>\n",
              "      <td>Pizza Hut</td>\n",
              "      <td>11am – 10pm (Today)</td>\n",
              "      <td>366.0</td>\n",
              "      <td>4,307</td>\n",
              "      <td>Ashok Nagar, Udaipur</td>\n",
              "      <td>Best in Pizza</td>\n",
              "      <td>My Box Veg Starting @ Rs. 199</td>\n",
              "      <td>NaN</td>\n",
              "      <td>NaN</td>\n",
              "      <td>199.0</td>\n",
              "      <td>1 Personal Veg Pizza , 2 Pcs Garlic Bread &amp; Pe...</td>\n",
              "    </tr>\n",
              "    <tr>\n",
              "      <th>1</th>\n",
              "      <td>Pizza Hut</td>\n",
              "      <td>NaN</td>\n",
              "      <td>NaN</td>\n",
              "      <td>NaN</td>\n",
              "      <td>Ashok Nagar, Udaipur</td>\n",
              "      <td>Best in Pizza</td>\n",
              "      <td>Double Treat Box (Veg) - Pizza</td>\n",
              "      <td>NaN</td>\n",
              "      <td>NaN</td>\n",
              "      <td>399.0</td>\n",
              "      <td>2 Veg Personal Pizza &amp; Garlic Breadstix!</td>\n",
              "    </tr>\n",
              "    <tr>\n",
              "      <th>2</th>\n",
              "      <td>Pizza Hut</td>\n",
              "      <td>NaN</td>\n",
              "      <td>NaN</td>\n",
              "      <td>NaN</td>\n",
              "      <td>Ashok Nagar, Udaipur</td>\n",
              "      <td>Best in Pizza</td>\n",
              "      <td>2 Medium Pizzas at Rs 299 each</td>\n",
              "      <td>NaN</td>\n",
              "      <td>NaN</td>\n",
              "      <td>598.0</td>\n",
              "      <td>2 Medium Pizzas @ Rs 299 each.</td>\n",
              "    </tr>\n",
              "    <tr>\n",
              "      <th>3</th>\n",
              "      <td>Pizza Hut</td>\n",
              "      <td>NaN</td>\n",
              "      <td>NaN</td>\n",
              "      <td>NaN</td>\n",
              "      <td>Ashok Nagar, Udaipur</td>\n",
              "      <td>Best in Pizza</td>\n",
              "      <td>Margherita</td>\n",
              "      <td>NaN</td>\n",
              "      <td>NaN</td>\n",
              "      <td>149.0</td>\n",
              "      <td>Nothing but cheese!</td>\n",
              "    </tr>\n",
              "    <tr>\n",
              "      <th>4</th>\n",
              "      <td>Pizza Hut</td>\n",
              "      <td>NaN</td>\n",
              "      <td>NaN</td>\n",
              "      <td>NaN</td>\n",
              "      <td>Ashok Nagar, Udaipur</td>\n",
              "      <td>Best in Pizza</td>\n",
              "      <td>Double Cheese</td>\n",
              "      <td>NaN</td>\n",
              "      <td>NaN</td>\n",
              "      <td>229.0</td>\n",
              "      <td>Nothing but classic cheese with more cheese!</td>\n",
              "    </tr>\n",
              "  </tbody>\n",
              "</table>\n",
              "</div>"
            ],
            "text/plain": [
              "  Restaurant  ...                                        Description\n",
              "0  Pizza Hut  ...  1 Personal Veg Pizza , 2 Pcs Garlic Bread & Pe...\n",
              "1  Pizza Hut  ...           2 Veg Personal Pizza & Garlic Breadstix!\n",
              "2  Pizza Hut  ...                     2 Medium Pizzas @ Rs 299 each.\n",
              "3  Pizza Hut  ...                                Nothing but cheese!\n",
              "4  Pizza Hut  ...       Nothing but classic cheese with more cheese!\n",
              "\n",
              "[5 rows x 11 columns]"
            ]
          },
          "metadata": {},
          "execution_count": 66
        }
      ]
    },
    {
      "cell_type": "markdown",
      "metadata": {
        "id": "cUbN6DxZevyF"
      },
      "source": [
        "#Data cleaning"
      ]
    },
    {
      "cell_type": "code",
      "metadata": {
        "colab": {
          "base_uri": "https://localhost:8080/",
          "height": 302
        },
        "id": "O1Pz3HLpGf30",
        "outputId": "0b0b035e-e8ea-44eb-f4af-77c3bbe109e1"
      },
      "source": [
        "df[\"Chef's special\"]=df[\"Chef's special\"].fillna(0)\n",
        "df[\"Chef's special\"]=df[\"Chef's special\"].replace(\"CHEF'S SPECIAL\",1)\n",
        "\n",
        "df[\"Must try\"]=df[\"Must try\"].fillna(0)\n",
        "df[\"Must try\"]=df[\"Must try\"].replace(\"MUST TRY\",1)\n",
        "df.head()"
      ],
      "execution_count": null,
      "outputs": [
        {
          "output_type": "execute_result",
          "data": {
            "text/html": [
              "<div>\n",
              "<style scoped>\n",
              "    .dataframe tbody tr th:only-of-type {\n",
              "        vertical-align: middle;\n",
              "    }\n",
              "\n",
              "    .dataframe tbody tr th {\n",
              "        vertical-align: top;\n",
              "    }\n",
              "\n",
              "    .dataframe thead th {\n",
              "        text-align: right;\n",
              "    }\n",
              "</style>\n",
              "<table border=\"1\" class=\"dataframe\">\n",
              "  <thead>\n",
              "    <tr style=\"text-align: right;\">\n",
              "      <th></th>\n",
              "      <th>Restaurant</th>\n",
              "      <th>Timings</th>\n",
              "      <th>Dining review</th>\n",
              "      <th>Delivery review</th>\n",
              "      <th>Address</th>\n",
              "      <th>Category</th>\n",
              "      <th>Item Name</th>\n",
              "      <th>Chef's special</th>\n",
              "      <th>Must try</th>\n",
              "      <th>Price</th>\n",
              "      <th>Description</th>\n",
              "    </tr>\n",
              "  </thead>\n",
              "  <tbody>\n",
              "    <tr>\n",
              "      <th>0</th>\n",
              "      <td>Pizza Hut</td>\n",
              "      <td>11am – 10pm (Today)</td>\n",
              "      <td>366.0</td>\n",
              "      <td>4,307</td>\n",
              "      <td>Ashok Nagar, Udaipur</td>\n",
              "      <td>Best in Pizza</td>\n",
              "      <td>My Box Veg Starting @ Rs. 199</td>\n",
              "      <td>0</td>\n",
              "      <td>0</td>\n",
              "      <td>199.0</td>\n",
              "      <td>1 Personal Veg Pizza , 2 Pcs Garlic Bread &amp; Pe...</td>\n",
              "    </tr>\n",
              "    <tr>\n",
              "      <th>1</th>\n",
              "      <td>Pizza Hut</td>\n",
              "      <td>NaN</td>\n",
              "      <td>NaN</td>\n",
              "      <td>NaN</td>\n",
              "      <td>Ashok Nagar, Udaipur</td>\n",
              "      <td>Best in Pizza</td>\n",
              "      <td>Double Treat Box (Veg) - Pizza</td>\n",
              "      <td>0</td>\n",
              "      <td>0</td>\n",
              "      <td>399.0</td>\n",
              "      <td>2 Veg Personal Pizza &amp; Garlic Breadstix!</td>\n",
              "    </tr>\n",
              "    <tr>\n",
              "      <th>2</th>\n",
              "      <td>Pizza Hut</td>\n",
              "      <td>NaN</td>\n",
              "      <td>NaN</td>\n",
              "      <td>NaN</td>\n",
              "      <td>Ashok Nagar, Udaipur</td>\n",
              "      <td>Best in Pizza</td>\n",
              "      <td>2 Medium Pizzas at Rs 299 each</td>\n",
              "      <td>0</td>\n",
              "      <td>0</td>\n",
              "      <td>598.0</td>\n",
              "      <td>2 Medium Pizzas @ Rs 299 each.</td>\n",
              "    </tr>\n",
              "    <tr>\n",
              "      <th>3</th>\n",
              "      <td>Pizza Hut</td>\n",
              "      <td>NaN</td>\n",
              "      <td>NaN</td>\n",
              "      <td>NaN</td>\n",
              "      <td>Ashok Nagar, Udaipur</td>\n",
              "      <td>Best in Pizza</td>\n",
              "      <td>Margherita</td>\n",
              "      <td>0</td>\n",
              "      <td>0</td>\n",
              "      <td>149.0</td>\n",
              "      <td>Nothing but cheese!</td>\n",
              "    </tr>\n",
              "    <tr>\n",
              "      <th>4</th>\n",
              "      <td>Pizza Hut</td>\n",
              "      <td>NaN</td>\n",
              "      <td>NaN</td>\n",
              "      <td>NaN</td>\n",
              "      <td>Ashok Nagar, Udaipur</td>\n",
              "      <td>Best in Pizza</td>\n",
              "      <td>Double Cheese</td>\n",
              "      <td>0</td>\n",
              "      <td>0</td>\n",
              "      <td>229.0</td>\n",
              "      <td>Nothing but classic cheese with more cheese!</td>\n",
              "    </tr>\n",
              "  </tbody>\n",
              "</table>\n",
              "</div>"
            ],
            "text/plain": [
              "  Restaurant  ...                                        Description\n",
              "0  Pizza Hut  ...  1 Personal Veg Pizza , 2 Pcs Garlic Bread & Pe...\n",
              "1  Pizza Hut  ...           2 Veg Personal Pizza & Garlic Breadstix!\n",
              "2  Pizza Hut  ...                     2 Medium Pizzas @ Rs 299 each.\n",
              "3  Pizza Hut  ...                                Nothing but cheese!\n",
              "4  Pizza Hut  ...       Nothing but classic cheese with more cheese!\n",
              "\n",
              "[5 rows x 11 columns]"
            ]
          },
          "metadata": {},
          "execution_count": 67
        }
      ]
    },
    {
      "cell_type": "code",
      "metadata": {
        "id": "saw9jy0lZJ3p"
      },
      "source": [
        "df[\"Description\"]=df[\"Description\"].fillna(\" \")"
      ],
      "execution_count": null,
      "outputs": []
    },
    {
      "cell_type": "markdown",
      "metadata": {
        "id": "ngIJSaYvez2a"
      },
      "source": [
        "#Price range"
      ]
    },
    {
      "cell_type": "code",
      "metadata": {
        "colab": {
          "base_uri": "https://localhost:8080/",
          "height": 281
        },
        "id": "wRDQTTeLa2dw",
        "outputId": "6f6bab07-233d-49a8-b560-b4cb1408dee8"
      },
      "source": [
        "price_range=df.groupby(['Restaurant', 'Address']).agg({'Price': ['mean', 'min', 'max']})\n",
        "print('Price range of restaurants')\n",
        "price_range"
      ],
      "execution_count": null,
      "outputs": [
        {
          "output_type": "stream",
          "name": "stdout",
          "text": [
            "Price range of restaurants\n"
          ]
        },
        {
          "output_type": "execute_result",
          "data": {
            "text/html": [
              "<div>\n",
              "<style scoped>\n",
              "    .dataframe tbody tr th:only-of-type {\n",
              "        vertical-align: middle;\n",
              "    }\n",
              "\n",
              "    .dataframe tbody tr th {\n",
              "        vertical-align: top;\n",
              "    }\n",
              "\n",
              "    .dataframe thead tr th {\n",
              "        text-align: left;\n",
              "    }\n",
              "\n",
              "    .dataframe thead tr:last-of-type th {\n",
              "        text-align: right;\n",
              "    }\n",
              "</style>\n",
              "<table border=\"1\" class=\"dataframe\">\n",
              "  <thead>\n",
              "    <tr>\n",
              "      <th></th>\n",
              "      <th></th>\n",
              "      <th colspan=\"3\" halign=\"left\">Price</th>\n",
              "    </tr>\n",
              "    <tr>\n",
              "      <th></th>\n",
              "      <th></th>\n",
              "      <th>mean</th>\n",
              "      <th>min</th>\n",
              "      <th>max</th>\n",
              "    </tr>\n",
              "    <tr>\n",
              "      <th>Restaurant</th>\n",
              "      <th>Address</th>\n",
              "      <th></th>\n",
              "      <th></th>\n",
              "      <th></th>\n",
              "    </tr>\n",
              "  </thead>\n",
              "  <tbody>\n",
              "    <tr>\n",
              "      <th>Laziz Pizza</th>\n",
              "      <th>City Centre, Udaipur</th>\n",
              "      <td>180.911765</td>\n",
              "      <td>35.0</td>\n",
              "      <td>429.0</td>\n",
              "    </tr>\n",
              "    <tr>\n",
              "      <th rowspan=\"2\" valign=\"top\">Pizza Burst</th>\n",
              "      <th>Hiran Magri, Udaipur</th>\n",
              "      <td>147.920079</td>\n",
              "      <td>59.5</td>\n",
              "      <td>382.5</td>\n",
              "    </tr>\n",
              "    <tr>\n",
              "      <th>Subhash Nagar, Udaipur</th>\n",
              "      <td>204.211538</td>\n",
              "      <td>50.0</td>\n",
              "      <td>450.0</td>\n",
              "    </tr>\n",
              "    <tr>\n",
              "      <th>Pizza Empire</th>\n",
              "      <th>City Centre, Udaipur</th>\n",
              "      <td>229.415584</td>\n",
              "      <td>110.0</td>\n",
              "      <td>900.0</td>\n",
              "    </tr>\n",
              "    <tr>\n",
              "      <th>Pizza Hut</th>\n",
              "      <th>Ashok Nagar, Udaipur</th>\n",
              "      <td>380.163714</td>\n",
              "      <td>30.0</td>\n",
              "      <td>1799.0</td>\n",
              "    </tr>\n",
              "  </tbody>\n",
              "</table>\n",
              "</div>"
            ],
            "text/plain": [
              "                                          Price               \n",
              "                                           mean    min     max\n",
              "Restaurant   Address                                          \n",
              "Laziz Pizza  City Centre, Udaipur    180.911765   35.0   429.0\n",
              "Pizza Burst  Hiran Magri, Udaipur    147.920079   59.5   382.5\n",
              "             Subhash Nagar, Udaipur  204.211538   50.0   450.0\n",
              "Pizza Empire City Centre, Udaipur    229.415584  110.0   900.0\n",
              "Pizza Hut    Ashok Nagar, Udaipur    380.163714   30.0  1799.0"
            ]
          },
          "metadata": {},
          "execution_count": 76
        }
      ]
    },
    {
      "cell_type": "code",
      "metadata": {
        "colab": {
          "base_uri": "https://localhost:8080/"
        },
        "id": "laLnz5M1Ijcr",
        "outputId": "3f1e5895-4ecd-4455-e202-73d071013005"
      },
      "source": [
        "description=df['Description']\n",
        "description.head()"
      ],
      "execution_count": null,
      "outputs": [
        {
          "output_type": "execute_result",
          "data": {
            "text/plain": [
              "0    1 Personal Veg Pizza , 2 Pcs Garlic Bread & Pe...\n",
              "1             2 Veg Personal Pizza & Garlic Breadstix!\n",
              "2                       2 Medium Pizzas @ Rs 299 each.\n",
              "3                                  Nothing but cheese!\n",
              "4         Nothing but classic cheese with more cheese!\n",
              "Name: Description, dtype: object"
            ]
          },
          "metadata": {},
          "execution_count": 70
        }
      ]
    },
    {
      "cell_type": "code",
      "metadata": {
        "id": "Zm9BCyGHZ6XO"
      },
      "source": [
        "names=df['Item Name']"
      ],
      "execution_count": null,
      "outputs": []
    },
    {
      "cell_type": "code",
      "metadata": {
        "colab": {
          "base_uri": "https://localhost:8080/"
        },
        "id": "QRdNxroKZwBD",
        "outputId": "a92321c6-eb9d-48b6-8544-0c4b09a303e5"
      },
      "source": [
        "names_list=''\n",
        "for sentence in names:\n",
        "  # print(sentence)\n",
        "  description_list=description_list+str(sentence)+\" \"\n",
        "\n",
        "words=description_list.split()\n",
        "print('Most commmon keywords used for Item names')\n",
        "tokens=nltk.FreqDist(words)  \n",
        "tokens.most_common(5)"
      ],
      "execution_count": null,
      "outputs": [
        {
          "output_type": "stream",
          "name": "stdout",
          "text": [
            "Most commmon keywords used for Item names\n"
          ]
        },
        {
          "output_type": "execute_result",
          "data": {
            "text/plain": [
              "[('Pizza', 304), ('and', 141), ('Cheese,', 108), ('Veg', 105), ('green', 105)]"
            ]
          },
          "metadata": {},
          "execution_count": 72
        }
      ]
    },
    {
      "cell_type": "code",
      "metadata": {
        "colab": {
          "base_uri": "https://localhost:8080/"
        },
        "id": "T0ZHlQ6eI6K4",
        "outputId": "954067c8-a3a5-474c-fb54-f2c4d5b20642"
      },
      "source": [
        "description_list=''\n",
        "for sentence in description:\n",
        "  # print(sentence)\n",
        "  description_list=description_list+str(sentence)+\" \"\n",
        "\n",
        "words=description_list.split()\n",
        "# print(words)\n",
        "tokens=nltk.FreqDist(words)  \n",
        "print('Most commmon keywords used for description')\n",
        "tokens.most_common(3)"
      ],
      "execution_count": null,
      "outputs": [
        {
          "output_type": "stream",
          "name": "stdout",
          "text": [
            "Most commmon keywords used for description\n"
          ]
        },
        {
          "output_type": "execute_result",
          "data": {
            "text/plain": [
              "[('and', 140), ('Cheese,', 108), ('green', 105)]"
            ]
          },
          "metadata": {},
          "execution_count": 59
        }
      ]
    },
    {
      "cell_type": "code",
      "metadata": {
        "id": "Q1TL_QT-ajPp"
      },
      "source": [
        ""
      ],
      "execution_count": null,
      "outputs": []
    }
  ]
}